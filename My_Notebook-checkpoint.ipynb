{
 "cells": [
  {
   "cell_type": "markdown",
   "id": "9a9bcb24",
   "metadata": {},
   "source": [
    "My first programm"
   ]
  },
  {
   "cell_type": "code",
   "execution_count": 8,
   "id": "04e0efa0",
   "metadata": {},
   "outputs": [
    {
     "data": {
      "text/plain": [
       "2"
      ]
     },
     "execution_count": 8,
     "metadata": {},
     "output_type": "execute_result"
    }
   ],
   "source": [
    "1+1"
   ]
  },
  {
   "cell_type": "markdown",
   "id": "6d3909c1",
   "metadata": {},
   "source": [
    "Find the minimum and the maximun values"
   ]
  },
  {
   "cell_type": "code",
   "execution_count": 9,
   "id": "1b5870f6",
   "metadata": {},
   "outputs": [],
   "source": [
    "x = max(5, 10, 25)"
   ]
  },
  {
   "cell_type": "code",
   "execution_count": 10,
   "id": "080a1d03",
   "metadata": {},
   "outputs": [],
   "source": [
    "y = min(5, 10, 25)"
   ]
  },
  {
   "cell_type": "code",
   "execution_count": 11,
   "id": "ffc474aa",
   "metadata": {},
   "outputs": [
    {
     "name": "stdout",
     "output_type": "stream",
     "text": [
      "25\n"
     ]
    }
   ],
   "source": [
    "print(x)"
   ]
  },
  {
   "cell_type": "code",
   "execution_count": 12,
   "id": "58e32ca0",
   "metadata": {},
   "outputs": [
    {
     "name": "stdout",
     "output_type": "stream",
     "text": [
      "5\n"
     ]
    }
   ],
   "source": [
    "print(y)"
   ]
  },
  {
   "cell_type": "markdown",
   "id": "a9eca843",
   "metadata": {},
   "source": [
    "Find the values of 4 to the power 3"
   ]
  },
  {
   "cell_type": "code",
   "execution_count": 13,
   "id": "5a121b7f",
   "metadata": {},
   "outputs": [],
   "source": [
    "x = pow(4, 3)"
   ]
  },
  {
   "cell_type": "code",
   "execution_count": 14,
   "id": "99043350",
   "metadata": {},
   "outputs": [
    {
     "name": "stdout",
     "output_type": "stream",
     "text": [
      "64\n"
     ]
    }
   ],
   "source": [
    "print(x)"
   ]
  }
 ],
 "metadata": {
  "kernelspec": {
   "display_name": "Python 3 (ipykernel)",
   "language": "python",
   "name": "python3"
  },
  "language_info": {
   "codemirror_mode": {
    "name": "ipython",
    "version": 3
   },
   "file_extension": ".py",
   "mimetype": "text/x-python",
   "name": "python",
   "nbconvert_exporter": "python",
   "pygments_lexer": "ipython3",
   "version": "3.11.5"
  }
 },
 "nbformat": 4,
 "nbformat_minor": 5
}
